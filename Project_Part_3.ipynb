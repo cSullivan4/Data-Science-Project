{
  "cells": [
    {
      "cell_type": "markdown",
      "metadata": {
        "id": "fEpd8c7Da7lG"
      },
      "source": [
        "#1. Introduction"
      ]
    },
    {
      "cell_type": "markdown",
      "metadata": {
        "id": "my5fde4Ya_KI"
      },
      "source": [
        "The study I chose is called: Freezing Inactivation of Escherichia Coli and Enterococcus Faecalis in Water: Response of Different Strains.\n",
        "\n",
        "It was authored and published in 2008 at the Lakehead University in Canada.\n",
        "\n",
        "Here researchers set out to compare the result of freezing/thawing cycles at various temperatures on different strains of E. Coli. Specifically strains that are common E. Coli and strains that have antibiotic resistance and are reffered to as Enterococcus faecalis. In this asssignment, I will often refer to the former as \"common\" and the latter as \"resistant.\"\n",
        "\n",
        "The work here is done against the backdrop of sanitizing groundwater sources, and the vaiablity of using the natual weather in certain enviroments to aid in this process.\n",
        "\n",
        "Link to the pdf download of paper: https://www.jstor.org/stable/40575406\n",
        "\n"
      ]
    },
    {
      "cell_type": "markdown",
      "metadata": {
        "id": "w7OD090ScRtR"
      },
      "source": [
        "#Part 2: Relate research questions, data, and figures"
      ]
    },
    {
      "cell_type": "markdown",
      "metadata": {
        "id": "Sxvsc39helBb"
      },
      "source": [
        "2.1\n",
        "\n",
        "Here are the areas where I lost points last part of the project, and my corrections:\n",
        "\n",
        "**What are the features? How many, and what do they tell us about the observations**\n",
        "\n",
        "In the previous part, I said that there was just one feature, that of the Log Inactivation. This was incorrect, there are really four features: the Name, Strain, Temperature and Log Inactivation. Every observation has these features.\n",
        "\n",
        "**Fig 1: Describe how it was generated: what are the axes? what are the individual data points? Or what are the cells in the table**\n",
        "\n",
        "I incorrectly labeled the y axis as the Average Log Inactivation Coeffecient, when in reality is was the Average log reductions.\n",
        "\n",
        "**Fig 2: Describe why the authors chose to include that particular figure. How does it contribute to the overall arguments of the paper, or support the hypothesis, or show some characteristic of the data**\n",
        "\n",
        "I was a little vague during my answer here. While the purpose is to look at the data in a closer way, it could be looked at here as a comparison between the efficacy of freeze/thaw as they relate to different temperatures.\n",
        "\n",
        "**Describe one other figure or table that you might make that would be useful for understanding this data. Explain exactly what would be the axes or entries in the table. Explain why it would be useful and what it might show.**\n",
        "\n",
        "I am unsure why I got points taken off here, my proposed graph seems resonable and helpful to me. Perhaps my sketch was not detailed enough.\n",
        "\n",
        "**Describe the number of rows and columns and how the file relates to the data in the paper.**\n",
        "\n",
        "The dataset that I downloaded did not have 5 columns and 5 rows, it had 80 rows and four columns.\n"
      ]
    },
    {
      "cell_type": "markdown",
      "metadata": {
        "id": "AVUkxLuIhCQU"
      },
      "source": [
        "2.2 The main point improved on from the last part of this project is the data is the correct shape and has the correct number of features."
      ]
    },
    {
      "cell_type": "markdown",
      "metadata": {
        "id": "02XpRvM0cVpk"
      },
      "source": []
    },
    {
      "cell_type": "markdown",
      "metadata": {
        "id": "OnsASSUfcXPq"
      },
      "source": [
        "#Part 3"
      ]
    },
    {
      "cell_type": "markdown",
      "metadata": {
        "id": "xwpZYC-K6Vbe"
      },
      "source": [
        "#Part 3.1: Load and clean the data"
      ]
    },
    {
      "cell_type": "markdown",
      "metadata": {
        "id": "iTEuPOnY6dNB"
      },
      "source": [
        "To obtain the datafiles that I will be working with, first follow the link to the pdf. Scroll down to the included datachart. It is on page 5 in a standard pdf reader, and the copy will denote 827 on the bottom right corner. Begin to parse the contents of Table 2 in a preferred spreadsheet application. The column features are Name, Strain, Temperature, and Inactivation. Name is either E. Coli or Entero... Strain is the 5 or 6 digit number which may contain an 'a' or 'b'. It is the strain of the bacteria being tested. Temperature is the temperature of each experiment. Take each row of the sets of five numbers and copy the first number, the one without the parenthesis, into the Inactivation column. Then, accuratley fill out the corresponding features for that row. Each entry into the .csv file is a freeze/thaw cycle. once you reach the end of a group of five numbers, jump to the next group directly to the right, and start on the first entry. After first row, move down to the second row. The data from the preceding procedue is also made available on this github link"
      ]
    },
    {
      "cell_type": "code",
      "execution_count": 156,
      "metadata": {
        "colab": {
          "base_uri": "https://localhost:8080/",
          "height": 206
        },
        "id": "f03TjU8Ab_wM",
        "outputId": "ffa0a28c-bf77-4077-b2fc-7aa1f2fb44e0"
      },
      "outputs": [
        {
          "data": {
            "text/html": [
              "\n",
              "  <div id=\"df-73a439bd-9b83-4e9a-93b7-30f948a58a39\" class=\"colab-df-container\">\n",
              "    <div>\n",
              "<style scoped>\n",
              "    .dataframe tbody tr th:only-of-type {\n",
              "        vertical-align: middle;\n",
              "    }\n",
              "\n",
              "    .dataframe tbody tr th {\n",
              "        vertical-align: top;\n",
              "    }\n",
              "\n",
              "    .dataframe thead th {\n",
              "        text-align: right;\n",
              "    }\n",
              "</style>\n",
              "<table border=\"1\" class=\"dataframe\">\n",
              "  <thead>\n",
              "    <tr style=\"text-align: right;\">\n",
              "      <th></th>\n",
              "      <th>index</th>\n",
              "      <th>Name:</th>\n",
              "      <th>Strain:</th>\n",
              "      <th>Temperature:</th>\n",
              "      <th>Inactivation</th>\n",
              "    </tr>\n",
              "  </thead>\n",
              "  <tbody>\n",
              "    <tr>\n",
              "      <th>0</th>\n",
              "      <td>0</td>\n",
              "      <td>E. Coli</td>\n",
              "      <td>961019a</td>\n",
              "      <td>-7</td>\n",
              "      <td>0.31</td>\n",
              "    </tr>\n",
              "    <tr>\n",
              "      <th>1</th>\n",
              "      <td>1</td>\n",
              "      <td>E. Coli</td>\n",
              "      <td>961019a</td>\n",
              "      <td>-7</td>\n",
              "      <td>0.92</td>\n",
              "    </tr>\n",
              "    <tr>\n",
              "      <th>2</th>\n",
              "      <td>2</td>\n",
              "      <td>E. Coli</td>\n",
              "      <td>961019a</td>\n",
              "      <td>-7</td>\n",
              "      <td>1.42</td>\n",
              "    </tr>\n",
              "    <tr>\n",
              "      <th>3</th>\n",
              "      <td>3</td>\n",
              "      <td>E. Coli</td>\n",
              "      <td>961019a</td>\n",
              "      <td>-7</td>\n",
              "      <td>1.67</td>\n",
              "    </tr>\n",
              "    <tr>\n",
              "      <th>4</th>\n",
              "      <td>4</td>\n",
              "      <td>E. Coli</td>\n",
              "      <td>961019a</td>\n",
              "      <td>-7</td>\n",
              "      <td>1.73</td>\n",
              "    </tr>\n",
              "  </tbody>\n",
              "</table>\n",
              "</div>\n",
              "    <div class=\"colab-df-buttons\">\n",
              "\n",
              "  <div class=\"colab-df-container\">\n",
              "    <button class=\"colab-df-convert\" onclick=\"convertToInteractive('df-73a439bd-9b83-4e9a-93b7-30f948a58a39')\"\n",
              "            title=\"Convert this dataframe to an interactive table.\"\n",
              "            style=\"display:none;\">\n",
              "\n",
              "  <svg xmlns=\"http://www.w3.org/2000/svg\" height=\"24px\" viewBox=\"0 -960 960 960\">\n",
              "    <path d=\"M120-120v-720h720v720H120Zm60-500h600v-160H180v160Zm220 220h160v-160H400v160Zm0 220h160v-160H400v160ZM180-400h160v-160H180v160Zm440 0h160v-160H620v160ZM180-180h160v-160H180v160Zm440 0h160v-160H620v160Z\"/>\n",
              "  </svg>\n",
              "    </button>\n",
              "\n",
              "  <style>\n",
              "    .colab-df-container {\n",
              "      display:flex;\n",
              "      gap: 12px;\n",
              "    }\n",
              "\n",
              "    .colab-df-convert {\n",
              "      background-color: #E8F0FE;\n",
              "      border: none;\n",
              "      border-radius: 50%;\n",
              "      cursor: pointer;\n",
              "      display: none;\n",
              "      fill: #1967D2;\n",
              "      height: 32px;\n",
              "      padding: 0 0 0 0;\n",
              "      width: 32px;\n",
              "    }\n",
              "\n",
              "    .colab-df-convert:hover {\n",
              "      background-color: #E2EBFA;\n",
              "      box-shadow: 0px 1px 2px rgba(60, 64, 67, 0.3), 0px 1px 3px 1px rgba(60, 64, 67, 0.15);\n",
              "      fill: #174EA6;\n",
              "    }\n",
              "\n",
              "    .colab-df-buttons div {\n",
              "      margin-bottom: 4px;\n",
              "    }\n",
              "\n",
              "    [theme=dark] .colab-df-convert {\n",
              "      background-color: #3B4455;\n",
              "      fill: #D2E3FC;\n",
              "    }\n",
              "\n",
              "    [theme=dark] .colab-df-convert:hover {\n",
              "      background-color: #434B5C;\n",
              "      box-shadow: 0px 1px 3px 1px rgba(0, 0, 0, 0.15);\n",
              "      filter: drop-shadow(0px 1px 2px rgba(0, 0, 0, 0.3));\n",
              "      fill: #FFFFFF;\n",
              "    }\n",
              "  </style>\n",
              "\n",
              "    <script>\n",
              "      const buttonEl =\n",
              "        document.querySelector('#df-73a439bd-9b83-4e9a-93b7-30f948a58a39 button.colab-df-convert');\n",
              "      buttonEl.style.display =\n",
              "        google.colab.kernel.accessAllowed ? 'block' : 'none';\n",
              "\n",
              "      async function convertToInteractive(key) {\n",
              "        const element = document.querySelector('#df-73a439bd-9b83-4e9a-93b7-30f948a58a39');\n",
              "        const dataTable =\n",
              "          await google.colab.kernel.invokeFunction('convertToInteractive',\n",
              "                                                    [key], {});\n",
              "        if (!dataTable) return;\n",
              "\n",
              "        const docLinkHtml = 'Like what you see? Visit the ' +\n",
              "          '<a target=\"_blank\" href=https://colab.research.google.com/notebooks/data_table.ipynb>data table notebook</a>'\n",
              "          + ' to learn more about interactive tables.';\n",
              "        element.innerHTML = '';\n",
              "        dataTable['output_type'] = 'display_data';\n",
              "        await google.colab.output.renderOutput(dataTable, element);\n",
              "        const docLink = document.createElement('div');\n",
              "        docLink.innerHTML = docLinkHtml;\n",
              "        element.appendChild(docLink);\n",
              "      }\n",
              "    </script>\n",
              "  </div>\n",
              "\n",
              "\n",
              "<div id=\"df-9e628e7a-4038-4f9a-9b95-dd43332591be\">\n",
              "  <button class=\"colab-df-quickchart\" onclick=\"quickchart('df-9e628e7a-4038-4f9a-9b95-dd43332591be')\"\n",
              "            title=\"Suggest charts\"\n",
              "            style=\"display:none;\">\n",
              "\n",
              "<svg xmlns=\"http://www.w3.org/2000/svg\" height=\"24px\"viewBox=\"0 0 24 24\"\n",
              "     width=\"24px\">\n",
              "    <g>\n",
              "        <path d=\"M19 3H5c-1.1 0-2 .9-2 2v14c0 1.1.9 2 2 2h14c1.1 0 2-.9 2-2V5c0-1.1-.9-2-2-2zM9 17H7v-7h2v7zm4 0h-2V7h2v10zm4 0h-2v-4h2v4z\"/>\n",
              "    </g>\n",
              "</svg>\n",
              "  </button>\n",
              "\n",
              "<style>\n",
              "  .colab-df-quickchart {\n",
              "      --bg-color: #E8F0FE;\n",
              "      --fill-color: #1967D2;\n",
              "      --hover-bg-color: #E2EBFA;\n",
              "      --hover-fill-color: #174EA6;\n",
              "      --disabled-fill-color: #AAA;\n",
              "      --disabled-bg-color: #DDD;\n",
              "  }\n",
              "\n",
              "  [theme=dark] .colab-df-quickchart {\n",
              "      --bg-color: #3B4455;\n",
              "      --fill-color: #D2E3FC;\n",
              "      --hover-bg-color: #434B5C;\n",
              "      --hover-fill-color: #FFFFFF;\n",
              "      --disabled-bg-color: #3B4455;\n",
              "      --disabled-fill-color: #666;\n",
              "  }\n",
              "\n",
              "  .colab-df-quickchart {\n",
              "    background-color: var(--bg-color);\n",
              "    border: none;\n",
              "    border-radius: 50%;\n",
              "    cursor: pointer;\n",
              "    display: none;\n",
              "    fill: var(--fill-color);\n",
              "    height: 32px;\n",
              "    padding: 0;\n",
              "    width: 32px;\n",
              "  }\n",
              "\n",
              "  .colab-df-quickchart:hover {\n",
              "    background-color: var(--hover-bg-color);\n",
              "    box-shadow: 0 1px 2px rgba(60, 64, 67, 0.3), 0 1px 3px 1px rgba(60, 64, 67, 0.15);\n",
              "    fill: var(--button-hover-fill-color);\n",
              "  }\n",
              "\n",
              "  .colab-df-quickchart-complete:disabled,\n",
              "  .colab-df-quickchart-complete:disabled:hover {\n",
              "    background-color: var(--disabled-bg-color);\n",
              "    fill: var(--disabled-fill-color);\n",
              "    box-shadow: none;\n",
              "  }\n",
              "\n",
              "  .colab-df-spinner {\n",
              "    border: 2px solid var(--fill-color);\n",
              "    border-color: transparent;\n",
              "    border-bottom-color: var(--fill-color);\n",
              "    animation:\n",
              "      spin 1s steps(1) infinite;\n",
              "  }\n",
              "\n",
              "  @keyframes spin {\n",
              "    0% {\n",
              "      border-color: transparent;\n",
              "      border-bottom-color: var(--fill-color);\n",
              "      border-left-color: var(--fill-color);\n",
              "    }\n",
              "    20% {\n",
              "      border-color: transparent;\n",
              "      border-left-color: var(--fill-color);\n",
              "      border-top-color: var(--fill-color);\n",
              "    }\n",
              "    30% {\n",
              "      border-color: transparent;\n",
              "      border-left-color: var(--fill-color);\n",
              "      border-top-color: var(--fill-color);\n",
              "      border-right-color: var(--fill-color);\n",
              "    }\n",
              "    40% {\n",
              "      border-color: transparent;\n",
              "      border-right-color: var(--fill-color);\n",
              "      border-top-color: var(--fill-color);\n",
              "    }\n",
              "    60% {\n",
              "      border-color: transparent;\n",
              "      border-right-color: var(--fill-color);\n",
              "    }\n",
              "    80% {\n",
              "      border-color: transparent;\n",
              "      border-right-color: var(--fill-color);\n",
              "      border-bottom-color: var(--fill-color);\n",
              "    }\n",
              "    90% {\n",
              "      border-color: transparent;\n",
              "      border-bottom-color: var(--fill-color);\n",
              "    }\n",
              "  }\n",
              "</style>\n",
              "\n",
              "  <script>\n",
              "    async function quickchart(key) {\n",
              "      const quickchartButtonEl =\n",
              "        document.querySelector('#' + key + ' button');\n",
              "      quickchartButtonEl.disabled = true;  // To prevent multiple clicks.\n",
              "      quickchartButtonEl.classList.add('colab-df-spinner');\n",
              "      try {\n",
              "        const charts = await google.colab.kernel.invokeFunction(\n",
              "            'suggestCharts', [key], {});\n",
              "      } catch (error) {\n",
              "        console.error('Error during call to suggestCharts:', error);\n",
              "      }\n",
              "      quickchartButtonEl.classList.remove('colab-df-spinner');\n",
              "      quickchartButtonEl.classList.add('colab-df-quickchart-complete');\n",
              "    }\n",
              "    (() => {\n",
              "      let quickchartButtonEl =\n",
              "        document.querySelector('#df-9e628e7a-4038-4f9a-9b95-dd43332591be button');\n",
              "      quickchartButtonEl.style.display =\n",
              "        google.colab.kernel.accessAllowed ? 'block' : 'none';\n",
              "    })();\n",
              "  </script>\n",
              "</div>\n",
              "    </div>\n",
              "  </div>\n"
            ],
            "text/plain": [
              "   index    Name:  Strain:  Temperature:  Inactivation\n",
              "0      0  E. Coli  961019a            -7          0.31\n",
              "1      1  E. Coli  961019a            -7          0.92\n",
              "2      2  E. Coli  961019a            -7          1.42\n",
              "3      3  E. Coli  961019a            -7          1.67\n",
              "4      4  E. Coli  961019a            -7          1.73"
            ]
          },
          "execution_count": 156,
          "metadata": {},
          "output_type": "execute_result"
        }
      ],
      "source": [
        "import pandas as pd\n",
        "import seaborn as sns\n",
        "import numpy as np\n",
        "import matplotlib.pyplot as plt\n",
        "\n",
        "# replace with the path on your machine\n",
        "path = '/content/drive/MyDrive/ds4bio/projectpart3/'\n",
        "\n",
        "# create the master ecoli experiment dataframe\n",
        "ecoli_dataframe = pd.read_csv(path + 'ecoli_experiment_dataframe.csv', sep = ',')\n",
        "\n",
        "# get a data frame for the different experiments of interest\n",
        "# this one is an experiment on strain 961019 common experiment\n",
        "ecoli_dataframe_common_1 = ecoli_dataframe[ecoli_dataframe['Strain:'] == '961019a']\n",
        "ecoli_dataframe_common_1.reset_index(inplace = True)\n",
        "\n",
        "# display the head for the dataframes\n",
        "ecoli_dataframe.head()\n",
        "ecoli_dataframe_common_1.head()\n"
      ]
    },
    {
      "cell_type": "markdown",
      "metadata": {
        "id": "X079u0Yu8ugR"
      },
      "source": [
        "Here, I take the large dataset for all the experiments and the bacteria's inactivation coeffecient and turn it into a large dataframe. Using series in Pandas, I am able to slice the master dataframe up into experiments of interest in order to compare and analyze.\n",
        "\n",
        "There are instances of an experiment in this study that tests two of the same strain of bacteria. Therefore, to create a unique 5 row freeze/thaw cycle sub-dataframe, both the strain name and the temperature value of the experiment must be used. Other combinations of sub-dataframes can be made of course.\n",
        "I think that this is the best way to do this because the user can easily create as many or as few dataframes as needed to explore the data and analyze it. These sub-dataframes can be highly customizable for the related topic that is being looked into.\n",
        "\n",
        "The way that I checked if the dataframes were suitable for further analyis was to graph them on a barplot. Since this is the main way the authors convey the information in this paper, it is a good test to see if the way the dataframe was setup works for this dataset. I was able to graph it into a correct and understandable bar graph. I then inspected the dataframe print out to see that all the meta information was contained in the rest of the frame, such as the common name and temperature. After this happened, I considered that no further data cleaning was required, and it was ready for analysis."
      ]
    },
    {
      "cell_type": "markdown",
      "metadata": {
        "id": "aVuD3PduEDTb"
      },
      "source": [
        "#3.2 Desribe Data Numerically\n",
        "\n"
      ]
    },
    {
      "cell_type": "code",
      "execution_count": 135,
      "metadata": {
        "colab": {
          "base_uri": "https://localhost:8080/"
        },
        "id": "TZ0YlgflELL5",
        "outputId": "2f6c1df5-ec15-4b1c-b82d-ffffa46460e6"
      },
      "outputs": [
        {
          "data": {
            "text/plain": [
              "(80, 4)"
            ]
          },
          "execution_count": 135,
          "metadata": {},
          "output_type": "execute_result"
        }
      ],
      "source": [
        "# display the dataframe shape\n",
        "ecoli_dataframe.shape"
      ]
    },
    {
      "cell_type": "markdown",
      "metadata": {
        "id": "0cFnHJufESXP"
      },
      "source": [
        "The dataframe has 80 rows, each corresponding to an observation on the cell concentration of the current and previous freeze/thaw cycle. These two obsverations are plugged into a formula, and the Inactivation value is generated and stored for each freeze/thaw cycle.\n",
        "\n",
        "For each species there are 5 freeze/thaw cycles for every 2 strains per temperature value. Given 4 temperature values and two E. Coli species.\n",
        "\n",
        "Written out in a numerical way:\n",
        "80 = 2 * (5 * 2 * 4)\n",
        "\n",
        "The dataframe was 4 features. Name is the common scientific name for the two species of E. Coli that were studies. Strain is the specefic bacterial strain used in this experiment. Temperature is the temperature that the experimental enviroment was for each of the varying freeze/thaw cycles. The meaning of the inactivation feature is described above."
      ]
    },
    {
      "cell_type": "markdown",
      "metadata": {
        "id": "oVxaVHBSF8V3"
      },
      "source": [
        "I am going to investigate the Temperature and Inactivation features. For temperature, I think the max will be -7, and the min would be -80. The mean would be an averge of those two ranges, so maybe around -50. Every observation has a value that is recorded by this feature."
      ]
    },
    {
      "cell_type": "code",
      "execution_count": 150,
      "metadata": {
        "colab": {
          "base_uri": "https://localhost:8080/"
        },
        "id": "zBrrPpqIGVQo",
        "outputId": "96d26489-7534-4301-8368-909f28feb46e"
      },
      "outputs": [
        {
          "data": {
            "text/plain": [
              "count    80.000000\n",
              "mean    -33.000000\n",
              "std      28.542662\n",
              "min     -80.000000\n",
              "25%     -42.500000\n",
              "50%     -22.500000\n",
              "75%     -13.000000\n",
              "max      -7.000000\n",
              "Name: Temperature:, dtype: float64"
            ]
          },
          "execution_count": 150,
          "metadata": {},
          "output_type": "execute_result"
        }
      ],
      "source": [
        "# get metrics from the temperture column\n",
        "ecoli_dataframe['Temperature:'].describe()"
      ]
    },
    {
      "cell_type": "markdown",
      "metadata": {
        "id": "GuF-GTvIGmmJ"
      },
      "source": [
        "I was correct for most of my predictions. The mean was -33 so, a little off from my prediction."
      ]
    },
    {
      "cell_type": "markdown",
      "metadata": {
        "id": "5xAleH9JG0DY"
      },
      "source": [
        "For Inactivation, the min will be close to 0.23 and the max will be somwhere close to 7. The mean will probally be a smaller number, maybe around 2.0. Every observation will have a value described by this feature."
      ]
    },
    {
      "cell_type": "code",
      "execution_count": 151,
      "metadata": {
        "colab": {
          "base_uri": "https://localhost:8080/"
        },
        "id": "I2TGXh_OHCxe",
        "outputId": "5e886193-202a-4849-ae95-e4403fc425bd"
      },
      "outputs": [
        {
          "data": {
            "text/plain": [
              "count    80.000000\n",
              "mean      1.771000\n",
              "std       1.764527\n",
              "min       0.060000\n",
              "25%       0.427500\n",
              "50%       1.200000\n",
              "75%       2.520000\n",
              "max       7.100000\n",
              "Name: Inactivation, dtype: float64"
            ]
          },
          "execution_count": 151,
          "metadata": {},
          "output_type": "execute_result"
        }
      ],
      "source": [
        "# get metrics from the inactivation column\n",
        "ecoli_dataframe['Inactivation'].describe()"
      ]
    },
    {
      "cell_type": "markdown",
      "metadata": {
        "id": "LAZ7rRK3HG8A"
      },
      "source": [
        "I was correct for the mean prediction, the count and max. The min was close to and estimate of 0.10."
      ]
    },
    {
      "cell_type": "markdown",
      "metadata": {
        "id": "3KKbiTeRHZEQ"
      },
      "source": [
        "#3.3: Visualizations"
      ]
    },
    {
      "cell_type": "markdown",
      "metadata": {
        "id": "ogGlzpP_Rl65"
      },
      "source": [
        "I would like to visulaizations the describe two temperature experiments on two different strains of bacteria.\n",
        "\n",
        "For the Inactivation feature, I will make a visualization on the first experiment's Inactivation value at the -7C temperature range on the normal bacteria. This visualization deals with a specefic set of Inactivation values.\n",
        "\n",
        "For the Tempearature feature, I will make a visulization on the -7C value for the first experiment on the antibiotic resistant bacteria and it's corresponding Inactivation values. This visualization deals with a specefic temperature range for an experiment.\n",
        "\n",
        "With these two experiments visualized, we can compare the freezing effect at -7C temperature on normal and antibiotic resistant bacteria."
      ]
    },
    {
      "cell_type": "code",
      "execution_count": 163,
      "metadata": {
        "colab": {
          "base_uri": "https://localhost:8080/"
        },
        "id": "aMER_IzFHaH_",
        "outputId": "8b5c3d26-3ad9-464e-d633-1aa0b155de72"
      },
      "outputs": [
        {
          "name": "stdout",
          "output_type": "stream",
          "text": [
            "          index  Temperature:  Inactivation\n",
            "count  5.000000           5.0      5.000000\n",
            "mean   2.000000          -7.0      1.210000\n",
            "std    1.581139           0.0      0.595861\n",
            "min    0.000000          -7.0      0.310000\n",
            "25%    1.000000          -7.0      0.920000\n",
            "50%    2.000000          -7.0      1.420000\n",
            "75%    3.000000          -7.0      1.670000\n",
            "max    4.000000          -7.0      1.730000\n",
            "           index  Temperature:  Inactivation\n",
            "count   5.000000           5.0      5.000000\n",
            "mean   42.000000          -7.0      0.570000\n",
            "std     1.581139           0.0      0.342199\n",
            "min    40.000000          -7.0      0.200000\n",
            "25%    41.000000          -7.0      0.340000\n",
            "50%    42.000000          -7.0      0.530000\n",
            "75%    43.000000          -7.0      0.700000\n",
            "max    44.000000          -7.0      1.080000\n"
          ]
        }
      ],
      "source": [
        "# make a sub-dataframe for the first -7C experiment on the resistant bacteria\n",
        "ecoli_dataframe_resistant_1 = ecoli_dataframe[ecoli_dataframe['Strain:'] == '51299d']\n",
        "ecoli_dataframe_resistant_1.reset_index(inplace = True)\n",
        "\n",
        "# remember that ecoli_dataframe_common_1 was already made in a previous cell\n",
        "\n",
        "# use describe to output metrics on both\n",
        "print(ecoli_dataframe_common_1.describe())\n",
        "print(ecoli_dataframe_resistant_1.describe())\n"
      ]
    },
    {
      "cell_type": "code",
      "execution_count": 161,
      "metadata": {
        "colab": {
          "base_uri": "https://localhost:8080/",
          "height": 476
        },
        "id": "0KWRHOKLVRDJ",
        "outputId": "ea8b4ab3-2fb7-47eb-e786-31ee58db3ae4"
      },
      "outputs": [
        {
          "data": {
            "text/plain": [
              "<Axes: xlabel='index', ylabel='Inactivation'>"
            ]
          },
          "execution_count": 161,
          "metadata": {},
          "output_type": "execute_result"
        },
        {
          "data": {
            "image/png": "[encoded data removed]",
            "text/plain": [
              "<Figure size 640x480 with 1 Axes>"
            ]
          },
          "metadata": {},
          "output_type": "display_data"
        }
      ],
      "source": [
        "# graph the data relating to the first -7C common bacteria experiment:\n",
        "sns.barplot(data = ecoli_dataframe_common_1, x = 'index', y = 'Inactivation', color = 'mediumspringgreen')"
      ]
    },
    {
      "cell_type": "code",
      "execution_count": 160,
      "metadata": {
        "colab": {
          "base_uri": "https://localhost:8080/",
          "height": 476
        },
        "id": "IVEime_DTwLp",
        "outputId": "b447df89-b13b-4b56-9797-3fd498ea693b"
      },
      "outputs": [
        {
          "data": {
            "text/plain": [
              "<Axes: xlabel='index', ylabel='Inactivation'>"
            ]
          },
          "execution_count": 160,
          "metadata": {},
          "output_type": "execute_result"
        },
        {
          "data": {
            "image/png": "[encoded data removed]",
            "text/plain": [
              "<Figure size 640x480 with 1 Axes>"
            ]
          },
          "metadata": {},
          "output_type": "display_data"
        }
      ],
      "source": [
        "# graph the data relating to the first -7C resistant bacteria experiment:\n",
        "sns.barplot(data = ecoli_dataframe_resistant_1, x = 'index', y = 'Inactivation', color = 'mediumspringgreen')"
      ]
    },
    {
      "cell_type": "markdown",
      "metadata": {
        "id": "mzFYKF2ZV1g5"
      },
      "source": [
        "The code to make the visualizaions here is using seaborn. It calls the barplot function, and passes the x and y features into the function. Here, the y is the Inactivation coeffcient, and the x is each observation in the sub-dataframe. I used series to create new dataframes that pertained to one experiment each. Here I focused on and graphed two same temperature experiments, one for each species of bacteria. This is beacause I am going to compare the difference in freeze/thaw effency based on antibacterial resistance."
      ]
    },
    {
      "cell_type": "markdown",
      "metadata": {
        "id": "0KWEr9zfW0PH"
      },
      "source": [
        "One relation to note on the two graphs is how the Inactivation values are larger on the common bacterial species. This means that after each freeze/thaw cycle, more bacteria was inactivated for the common species, and less bacteria was inactivated for the resistant species. Therefore, the antibacterial bacteria not only had a larger antibiotic resistance, but also a larger cold resistance when compared to a non-antibiotic resistant bacteria."
      ]
    },
    {
      "cell_type": "markdown",
      "metadata": {
        "id": "zy3gd_FlXfZ5"
      },
      "source": [
        "Another relation to note is how it takes more freeze/thaw cycles before a large number of cells are inactivated in the resistant bacteria compared to the common bacteria.\n",
        "Compare the first three freeze/thaw cycles, and notice how after the 2nd cycle, large amounts of cells are inactivated. In fact, the inactivation per cycle has reached its peak by the 4th cycle.\n",
        "\n",
        "This is in contast to the antibiotic resistant bacteria. The first 3 cycles do not inactivate a large number of cells. The value actually descreases on the third cycle compared to the second. It is not until the last cycle that the inactivation value peaks, and even then it is less than the corresponding value on the normal bacteria."
      ]
    },
    {
      "cell_type": "markdown",
      "metadata": {
        "id": "cChYz19HYqj5"
      },
      "source": [
        "These relations that were discovered from the graph mirror the describe function in some ways. The average value of the Inactivation values for the common bacteria is higher than the average values for the antibiotic resistant one. This proves the first relation I mentioned. The varying standard deviation sections also follow a similar pattern, which hints at the section of analysis on each different freeze/thaw cycle. However, it would still require a careful visual look at each cycle to really uncover that relation. The describe function could not satisfy this requirement."
      ]
    },
    {
      "cell_type": "markdown",
      "metadata": {
        "id": "QUWcFVVdZj3w"
      },
      "source": [
        "The visualizations done here are central to the hypothesis that the researchers set out to investigate: the comparsion of an opportunistically pathogenic strain of E. coli, and a vancomycin-resistant and a vancomycin-sensitive strain of Enterococcus faecalis.\n",
        "\n",
        "These visualizations support the hypothesis by unovering a relation between the two bacterial groups. An answer that the relation would give to the hypothesis would be to illistrate that freezing and thawing techniques affect the two groups differently."
      ]
    }
  ],
  "metadata": {
    "colab": {
      "provenance": []
    },
    "kernelspec": {
      "display_name": "Python 3",
      "name": "python3"
    },
    "language_info": {
      "name": "python"
    }
  },
  "nbformat": 4,
  "nbformat_minor": 0
}
